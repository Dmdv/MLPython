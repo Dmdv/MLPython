{
 "cells": [
  {
   "cell_type": "code",
   "execution_count": 1,
   "metadata": {},
   "outputs": [],
   "source": [
    "ALLOWED_HOSTS = [\n",
    "    '.open.ru',\n",
    "    '.openbank.ru',\n",
    "    '10.48.114.30',\n",
    "    '10.48.117.30',\n",
    "    'front',\n",
    "    '.redmadrobot.com',\n",
    "    '10.48.114.46',\n",
    "    '10.48.114.53',\n",
    "    '10.48.114.29',\n",
    "    '10.48.114.43',\n",
    "    'widget',\n",
    "    'webchat.open.ru'\n",
    "]"
   ]
  },
  {
   "cell_type": "code",
   "execution_count": 10,
   "metadata": {},
   "outputs": [],
   "source": [
    "ALLOWED_HOSTS.append(\"ddfdf\")"
   ]
  },
  {
   "cell_type": "code",
   "execution_count": 11,
   "metadata": {},
   "outputs": [
    {
     "data": {
      "text/plain": [
       "['.open.ru',\n",
       " '.openbank.ru',\n",
       " '10.48.114.30',\n",
       " '10.48.117.30',\n",
       " 'front',\n",
       " '.redmadrobot.com',\n",
       " '10.48.114.46',\n",
       " '10.48.114.53',\n",
       " '10.48.114.29',\n",
       " '10.48.114.43',\n",
       " 'widget',\n",
       " 'webchat.open.ru',\n",
       " 'localhost',\n",
       " 'ddfdf']"
      ]
     },
     "execution_count": 11,
     "metadata": {},
     "output_type": "execute_result"
    }
   ],
   "source": [
    "ALLOWED_HOSTS"
   ]
  },
  {
   "cell_type": "code",
   "execution_count": null,
   "metadata": {},
   "outputs": [],
   "source": []
  },
  {
   "cell_type": "code",
   "execution_count": null,
   "metadata": {},
   "outputs": [],
   "source": []
  }
 ],
 "metadata": {
  "kernelspec": {
   "display_name": "Python 2",
   "language": "python",
   "name": "python2"
  },
  "language_info": {
   "codemirror_mode": {
    "name": "ipython",
    "version": 2
   },
   "file_extension": ".py",
   "mimetype": "text/x-python",
   "name": "python",
   "nbconvert_exporter": "python",
   "pygments_lexer": "ipython2",
   "version": "2.7.14"
  }
 },
 "nbformat": 4,
 "nbformat_minor": 2
}
