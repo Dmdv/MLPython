{
 "cells": [
  {
   "cell_type": "markdown",
   "metadata": {},
   "source": [
    "### Свертка чисел в диапазоны"
   ]
  },
  {
   "cell_type": "code",
   "execution_count": 52,
   "metadata": {},
   "outputs": [],
   "source": [
    "l = [1, 2, 4, 6, 7, 8, 15]"
   ]
  },
  {
   "cell_type": "code",
   "execution_count": 53,
   "metadata": {},
   "outputs": [],
   "source": [
    "if l:\n",
    "    arr = sorted(l)\n",
    "    ranges = []\n",
    "    range = [arr[0]]\n",
    "\n",
    "    for i in arr[1:]:\n",
    "        if range[-1] == i - 1:\n",
    "            range.append(i)\n",
    "        else:\n",
    "            ranges.append(range)\n",
    "            range = [i]\n",
    "\n",
    "    ranges.append(range)\n",
    "    "
   ]
  },
  {
   "cell_type": "code",
   "execution_count": 54,
   "metadata": {},
   "outputs": [
    {
     "name": "stdout",
     "output_type": "stream",
     "text": [
      "1 - 2\n",
      "4\n",
      "6 - 8\n",
      "15\n"
     ]
    }
   ],
   "source": [
    "for range in ranges:\n",
    "    if len(range) > 1:\n",
    "        print('{0} - {1}'.format(range[0], range[-1]))\n",
    "    else:\n",
    "        print('{0}'.format(range[0]))"
   ]
  },
  {
   "cell_type": "code",
   "execution_count": null,
   "metadata": {},
   "outputs": [],
   "source": []
  }
 ],
 "metadata": {
  "kernelspec": {
   "display_name": "Python 2",
   "language": "python",
   "name": "python2"
  },
  "language_info": {
   "codemirror_mode": {
    "name": "ipython",
    "version": 2
   },
   "file_extension": ".py",
   "mimetype": "text/x-python",
   "name": "python",
   "nbconvert_exporter": "python",
   "pygments_lexer": "ipython2",
   "version": "2.7.14"
  }
 },
 "nbformat": 4,
 "nbformat_minor": 2
}
