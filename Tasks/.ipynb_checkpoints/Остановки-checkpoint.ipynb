{
 "cells": [
  {
   "cell_type": "markdown",
   "metadata": {},
   "source": [
    "Есть N автобусных маршрутов, каждый маршрут имеет не менее двух остановок. Найти пару станций, через которую проходит больше всего автобусных маршрутов, таких, что от первой станции из пары можно добраться до второй станции из пары."
   ]
  },
  {
   "cell_type": "code",
   "execution_count": 211,
   "metadata": {},
   "outputs": [],
   "source": [
    "routes = [\n",
    "    {1,2,3,4,5},\n",
    "    {3,4},\n",
    "    {3,4,5,6},\n",
    "    {1,2,5,6}\n",
    "]\n",
    "\n",
    "routes = [frozenset(iset)for iset in routes]"
   ]
  },
  {
   "cell_type": "markdown",
   "metadata": {},
   "source": [
    "#### expected {3 ,4}"
   ]
  },
  {
   "cell_type": "markdown",
   "metadata": {},
   "source": [
    "#### Находим список пересечений маршрутов"
   ]
  },
  {
   "cell_type": "code",
   "execution_count": 212,
   "metadata": {},
   "outputs": [],
   "source": [
    "def find_routes(routes):\n",
    "    intersections = dict()\n",
    "    for i in range(len(routes)):\n",
    "        for j in range(i + 1, len(routes)):\n",
    "\n",
    "            cross = routes[i] & routes[j]\n",
    "\n",
    "            if cross and len(cross) > 1:\n",
    "                if cross in intersections:\n",
    "                    intersections[cross] = intersections[cross] + 1\n",
    "                else:\n",
    "                    intersections[cross] = 1\n",
    "    return intersections"
   ]
  },
  {
   "cell_type": "code",
   "execution_count": 213,
   "metadata": {},
   "outputs": [],
   "source": [
    "intersections = find_routes(routes)"
   ]
  },
  {
   "cell_type": "markdown",
   "metadata": {},
   "source": [
    "#### Второй и последний проход: найти пересечения среди найденных маршрутов"
   ]
  },
  {
   "cell_type": "code",
   "execution_count": 214,
   "metadata": {},
   "outputs": [],
   "source": [
    "intersections2 = find_routes(intersections.keys())"
   ]
  },
  {
   "cell_type": "code",
   "execution_count": 215,
   "metadata": {},
   "outputs": [],
   "source": [
    "for route in intersections2:\n",
    "    if route in intersections:\n",
    "        intersections[route] = intersections[route] + 1"
   ]
  },
  {
   "cell_type": "code",
   "execution_count": 216,
   "metadata": {},
   "outputs": [
    {
     "data": {
      "text/plain": [
       "frozenset({3, 4})"
      ]
     },
     "execution_count": 216,
     "metadata": {},
     "output_type": "execute_result"
    }
   ],
   "source": [
    "max(intersections, key=intersections.get)"
   ]
  }
 ],
 "metadata": {
  "kernelspec": {
   "display_name": "Python 2",
   "language": "python",
   "name": "python2"
  },
  "language_info": {
   "codemirror_mode": {
    "name": "ipython",
    "version": 2
   },
   "file_extension": ".py",
   "mimetype": "text/x-python",
   "name": "python",
   "nbconvert_exporter": "python",
   "pygments_lexer": "ipython2",
   "version": "2.7.14"
  }
 },
 "nbformat": 4,
 "nbformat_minor": 2
}
