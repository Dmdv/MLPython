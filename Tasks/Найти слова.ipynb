{
 "cells": [
  {
   "cell_type": "markdown",
   "metadata": {},
   "source": [
    "### Условие\n",
    "Для пары слов найти кратчайший путь изменениями одной буквы. Например, find_path(\"bun\", \"van\") выдаст [\"bun\", \"ban\", \"van\"].\n",
    "Сначала подаётся английский словарь в виде списка слов. Все слова в пути должны быть из словаря.\n",
    "Затем подаются пары слов для которых нужно решить задачу."
   ]
  },
  {
   "cell_type": "markdown",
   "metadata": {},
   "source": [
    "### Описание алгоритма\n",
    "1. Берем source, ищем разницу со каждым словом из словаря. Создаем список слов, с которым разница = 1\n",
    "2. Итерация по найденным словам\n",
    "2. Берем слово и ищем как в п1\n",
    "3. Если нашли target, добавляем его в путь\n",
    "4. Иначе: возвращаемся к очереди из п1"
   ]
  },
  {
   "cell_type": "code",
   "execution_count": 116,
   "metadata": {},
   "outputs": [],
   "source": [
    "source = \"bunker\"\n",
    "target = \"dunkan\"\n",
    "path = [source]\n",
    "dict = [\"dunker\", \"bunker\", \"bunked\", \"dunkan\", \"dunkar\"]"
   ]
  },
  {
   "cell_type": "code",
   "execution_count": 117,
   "metadata": {},
   "outputs": [],
   "source": [
    "def diff(source, target):\n",
    "    \n",
    "    if not source or not target:\n",
    "        return 0\n",
    "    \n",
    "    count = 0\n",
    "    i = 0\n",
    "    \n",
    "    for i in range(min(len(source), len(target))):\n",
    "        if source[i] != target[i]:\n",
    "            count = count + 1\n",
    "            \n",
    "    word = source if len(source) > len(target) else target\n",
    "    \n",
    "    return count + len(word[i + 1:])"
   ]
  },
  {
   "cell_type": "code",
   "execution_count": 118,
   "metadata": {},
   "outputs": [],
   "source": [
    "def find_next(source, dict):\n",
    "    return [word for word in dict if diff(source, word) == 1]"
   ]
  },
  {
   "cell_type": "code",
   "execution_count": 119,
   "metadata": {},
   "outputs": [],
   "source": [
    "def find_path(source, target, dict):\n",
    "    dict.remove(source)\n",
    "    \n",
    "    for word in find_next(source, dict):\n",
    "        path.append(word)\n",
    "        if word == target:\n",
    "            return path\n",
    "        else:\n",
    "            subpath = find_path(word, target, dict)\n",
    "            if subpath:               \n",
    "                return subpath\n",
    "            else:\n",
    "                path.remove(word)"
   ]
  },
  {
   "cell_type": "code",
   "execution_count": 120,
   "metadata": {},
   "outputs": [
    {
     "data": {
      "text/plain": [
       "['bunker', 'dunker', 'dunkar', 'dunkan']"
      ]
     },
     "execution_count": 120,
     "metadata": {},
     "output_type": "execute_result"
    }
   ],
   "source": [
    "find_path(source, target, dict)"
   ]
  },
  {
   "cell_type": "code",
   "execution_count": null,
   "metadata": {},
   "outputs": [],
   "source": []
  }
 ],
 "metadata": {
  "kernelspec": {
   "display_name": "Python 2",
   "language": "python",
   "name": "python2"
  },
  "language_info": {
   "codemirror_mode": {
    "name": "ipython",
    "version": 2
   },
   "file_extension": ".py",
   "mimetype": "text/x-python",
   "name": "python",
   "nbconvert_exporter": "python",
   "pygments_lexer": "ipython2",
   "version": "2.7.14"
  }
 },
 "nbformat": 4,
 "nbformat_minor": 2
}
