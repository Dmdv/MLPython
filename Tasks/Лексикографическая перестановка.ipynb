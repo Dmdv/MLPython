{
 "cells": [
  {
   "cell_type": "markdown",
   "metadata": {},
   "source": [
    "Нужно написать алгоритм генерации следующей в лексикографическом порядке перестановки <br>\n",
    "Например, для (4, 3, 1, 2, 5) следующей будет (4, 5, 3, 2, 1)."
   ]
  },
  {
   "cell_type": "markdown",
   "metadata": {},
   "source": [
    "### Алгоритм Найраны"
   ]
  },
  {
   "cell_type": "code",
   "execution_count": 35,
   "metadata": {},
   "outputs": [],
   "source": [
    "def next_permutation (sequence, compare):\n",
    "    count = len(sequence)\n",
    "    i = count\n",
    "    \n",
    "    # Этап № 1\n",
    "    \n",
    "    while True:\n",
    "        if i < 2:\n",
    "            return False # Перебор закончен\n",
    "        i -= 1;\n",
    "        \n",
    "        if compare(sequence[i - 1], sequence[i]):\n",
    "            break\n",
    "            \n",
    "    # Этап № 2\n",
    "    \n",
    "    j = count\n",
    "    while j > i and not compare(sequence[i - 1], sequence[j - 1]):\n",
    "        j -= 1\n",
    "        \n",
    "    sequence[i - 1], sequence[j - 1] = sequence[j - 1], sequence[i - 1]\n",
    "    \n",
    "    # Этап № 3\n",
    "    \n",
    "    j = count\n",
    "    while i < j - 1:\n",
    "        j -= 1\n",
    "        sequence[i], sequence[j] = sequence[j], sequence[i]\n",
    "        i += 1\n",
    "    return True"
   ]
  },
  {
   "cell_type": "code",
   "execution_count": 60,
   "metadata": {},
   "outputs": [],
   "source": [
    "def less(value_0, value_1):\n",
    "    return value_0 < value_1\n",
    "\n",
    "def greater(value_0, value_1):\n",
    "    return value_0 > value_1"
   ]
  },
  {
   "cell_type": "code",
   "execution_count": 61,
   "metadata": {},
   "outputs": [],
   "source": [
    "sequence = [1, 2, 3]"
   ]
  },
  {
   "cell_type": "code",
   "execution_count": 62,
   "metadata": {},
   "outputs": [
    {
     "name": "stdout",
     "output_type": "stream",
     "text": [
      "[1, 2, 3]\n",
      "[1, 3, 2]\n",
      "[2, 1, 3]\n",
      "[2, 3, 1]\n",
      "[3, 1, 2]\n",
      "[3, 2, 1]\n"
     ]
    }
   ],
   "source": [
    "print(sequence)\n",
    "while next_permutation(sequence, less):\n",
    "    print(sequence)"
   ]
  },
  {
   "cell_type": "markdown",
   "metadata": {},
   "source": [
    "### Heap's метод\n",
    "https://softwareengineering.stackexchange.com/questions/213449/how-do-i-create-every-permutation"
   ]
  },
  {
   "cell_type": "code",
   "execution_count": 72,
   "metadata": {},
   "outputs": [],
   "source": [
    "def do(n):\n",
    "    print(n)"
   ]
  },
  {
   "cell_type": "code",
   "execution_count": 64,
   "metadata": {},
   "outputs": [],
   "source": [
    "def swap(elements, i, j):\n",
    "    elements[i], elements[j] = elements[j], elements[i]\n"
   ]
  },
  {
   "cell_type": "code",
   "execution_count": 78,
   "metadata": {},
   "outputs": [],
   "source": [
    "def swap2(i, j):\n",
    "    return (j, i)"
   ]
  },
  {
   "cell_type": "code",
   "execution_count": 84,
   "metadata": {},
   "outputs": [],
   "source": [
    "def generate(n):\n",
    "    if n == 1:\n",
    "        #do(n)\n",
    "        return\n",
    "    for c in range(1, n + 1):\n",
    "        generate(n - 1)\n",
    "        print(swap2(1 if n % 2 else c, n))"
   ]
  },
  {
   "cell_type": "code",
   "execution_count": 85,
   "metadata": {},
   "outputs": [
    {
     "name": "stdout",
     "output_type": "stream",
     "text": [
      "(2, 1)\n",
      "(2, 2)\n",
      "(3, 1)\n",
      "(2, 1)\n",
      "(2, 2)\n",
      "(3, 1)\n",
      "(2, 1)\n",
      "(2, 2)\n",
      "(3, 1)\n"
     ]
    }
   ],
   "source": [
    "generate(3)"
   ]
  },
  {
   "cell_type": "markdown",
   "metadata": {},
   "source": [
    "### Рекурсивный алгоритм"
   ]
  },
  {
   "cell_type": "markdown",
   "metadata": {},
   "source": [
    "Разбиваем задачу на множество подзадач, пока не получим единственный элемент в последовательности, его возвращаем и возвращаем список последовательностей"
   ]
  },
  {
   "cell_type": "code",
   "execution_count": null,
   "metadata": {},
   "outputs": [],
   "source": []
  }
 ],
 "metadata": {
  "kernelspec": {
   "display_name": "Python 2",
   "language": "python",
   "name": "python2"
  },
  "language_info": {
   "codemirror_mode": {
    "name": "ipython",
    "version": 2
   },
   "file_extension": ".py",
   "mimetype": "text/x-python",
   "name": "python",
   "nbconvert_exporter": "python",
   "pygments_lexer": "ipython2",
   "version": "2.7.14"
  }
 },
 "nbformat": 4,
 "nbformat_minor": 2
}
