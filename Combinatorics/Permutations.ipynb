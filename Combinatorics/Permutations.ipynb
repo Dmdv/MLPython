{
 "cells": [
  {
   "cell_type": "markdown",
   "metadata": {},
   "source": [
    "# N!"
   ]
  },
  {
   "cell_type": "code",
   "execution_count": 1,
   "metadata": {},
   "outputs": [
    {
     "name": "stdout",
     "output_type": "stream",
     "text": [
      "(1, 2, 3)\n",
      "(1, 3, 2)\n",
      "(2, 1, 3)\n",
      "(2, 3, 1)\n",
      "(3, 1, 2)\n",
      "(3, 2, 1)\n"
     ]
    }
   ],
   "source": [
    "import itertools\n",
    "for values in itertools.permutations([1,2,3]):\n",
    "    print (values)"
   ]
  },
  {
   "cell_type": "code",
   "execution_count": 13,
   "metadata": {},
   "outputs": [],
   "source": [
    "def perm(a):\n",
    "    \n",
    "    result = []\n",
    "    n = len(a)\n",
    "    \n",
    "    def sub_perm(i):\n",
    "        \n",
    "        if i == n - 1:\n",
    "            result.append(a)\n",
    "            return\n",
    "            #yield tuple(array)\n",
    "        else:\n",
    "            for k in range(i, n):\n",
    "                a[i], a[k] = a[k], a[i]\n",
    "                #yield from sub(i + 1)\n",
    "                result.append(sub_perm(i + 1))\n",
    "                a[i], a[k] = a[k], a[i]\n",
    "                \n",
    "    #yield from sub_perm(0)\n",
    "    result.append(sub_perm(0))\n",
    "    \n",
    "    print result\n",
    "            "
   ]
  },
  {
   "cell_type": "code",
   "execution_count": 14,
   "metadata": {},
   "outputs": [
    {
     "name": "stdout",
     "output_type": "stream",
     "text": [
      "[[1, 2], None, [1, 2], None, None]\n"
     ]
    }
   ],
   "source": [
    "perm([1, 2])"
   ]
  },
  {
   "cell_type": "code",
   "execution_count": null,
   "metadata": {},
   "outputs": [],
   "source": []
  }
 ],
 "metadata": {
  "kernelspec": {
   "display_name": "Python 2",
   "language": "python",
   "name": "python2"
  },
  "language_info": {
   "codemirror_mode": {
    "name": "ipython",
    "version": 2
   },
   "file_extension": ".py",
   "mimetype": "text/x-python",
   "name": "python",
   "nbconvert_exporter": "python",
   "pygments_lexer": "ipython2",
   "version": "2.7.14"
  }
 },
 "nbformat": 4,
 "nbformat_minor": 2
}
