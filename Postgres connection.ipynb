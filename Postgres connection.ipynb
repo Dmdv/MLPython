{
 "cells": [
  {
   "cell_type": "code",
   "execution_count": 6,
   "metadata": {},
   "outputs": [],
   "source": [
    "import psycopg2, pprint"
   ]
  },
  {
   "cell_type": "code",
   "execution_count": 7,
   "metadata": {},
   "outputs": [],
   "source": [
    "database = 'redshift'\n",
    "user = 'postgres'\n",
    "host = 'localhost'\n",
    "password = ''\n",
    "port = 5433"
   ]
  },
  {
   "cell_type": "code",
   "execution_count": 8,
   "metadata": {},
   "outputs": [
    {
     "data": {
      "text/plain": [
       "\"dbname='redshift' user='postgres' host='localhost' password='' port=5433 connect_timeout=1\""
      ]
     },
     "execution_count": 8,
     "metadata": {},
     "output_type": "execute_result"
    }
   ],
   "source": [
    "conn_str = \"dbname='{0}' user='{1}' host='{2}' password='{3}' port={4} connect_timeout=1\"\\\n",
    "        .format(database, user, host, password, port)\n",
    "conn_str"
   ]
  },
  {
   "cell_type": "code",
   "execution_count": 9,
   "metadata": {},
   "outputs": [],
   "source": [
    "def postgres_test():\n",
    "    try:\n",
    "        conn = psycopg2.connect(conn_str)\n",
    "        cursor = conn.cursor()\n",
    "        cursor.execute(\"SELECT * FROM redshift_user\")\n",
    "        records = cursor.fetchall()\n",
    "        pprint.pprint(\"User counts: {0}\".format(len(records)))\n",
    "        conn.close()\n",
    "        return True\n",
    "    except:\n",
    "        return False"
   ]
  },
  {
   "cell_type": "code",
   "execution_count": 10,
   "metadata": {},
   "outputs": [
    {
     "name": "stdout",
     "output_type": "stream",
     "text": [
      "'User counts: 2'\n",
      "Connected sucessfully\n"
     ]
    }
   ],
   "source": [
    "if postgres_test():\n",
    "    print(\"Connected sucessfully\")\n",
    "else:\n",
    "    print(\"Connection failed\")    "
   ]
  },
  {
   "cell_type": "code",
   "execution_count": null,
   "metadata": {},
   "outputs": [],
   "source": []
  }
 ],
 "metadata": {
  "kernelspec": {
   "display_name": "Python 2",
   "language": "python",
   "name": "python2"
  },
  "language_info": {
   "codemirror_mode": {
    "name": "ipython",
    "version": 2
   },
   "file_extension": ".py",
   "mimetype": "text/x-python",
   "name": "python",
   "nbconvert_exporter": "python",
   "pygments_lexer": "ipython2",
   "version": "2.7.14"
  }
 },
 "nbformat": 4,
 "nbformat_minor": 2
}
