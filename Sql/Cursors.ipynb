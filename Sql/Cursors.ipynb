{
 "cells": [
  {
   "cell_type": "code",
   "execution_count": 333,
   "metadata": {},
   "outputs": [],
   "source": [
    "import psycopg2\n",
    "import sqlalchemy\n",
    "from collections import defaultdict\n",
    "import datetime\n",
    "import json\n",
    "import ujson"
   ]
  },
  {
   "cell_type": "code",
   "execution_count": 334,
   "metadata": {},
   "outputs": [],
   "source": [
    "#postgres_engine = sqlalchemy.create_engine('postgresql://connectionstring')"
   ]
  },
  {
   "cell_type": "code",
   "execution_count": 335,
   "metadata": {},
   "outputs": [
    {
     "data": {
      "text/plain": [
       "'Dima'"
      ]
     },
     "execution_count": 335,
     "metadata": {},
     "output_type": "execute_result"
    }
   ],
   "source": [
    "s = \"Dima\"\n",
    "s.encode('utf8')"
   ]
  },
  {
   "cell_type": "code",
   "execution_count": 336,
   "metadata": {},
   "outputs": [
    {
     "data": {
      "text/plain": [
       "u'\\\\u0414\\\\u043c\\\\u0438\\\\u0442\\\\u0440\\\\u0438\\\\u0439'"
      ]
     },
     "execution_count": 336,
     "metadata": {},
     "output_type": "execute_result"
    }
   ],
   "source": [
    "uni = \"\\u0414\\u043c\\u0438\\u0442\\u0440\\u0438\\u0439\"\n",
    "unicode(uni, 'utf-8')\n",
    "#uni.decode('utf-8')"
   ]
  },
  {
   "cell_type": "code",
   "execution_count": 337,
   "metadata": {},
   "outputs": [
    {
     "data": {
      "text/plain": [
       "u'Hello world'"
      ]
     },
     "execution_count": 337,
     "metadata": {},
     "output_type": "execute_result"
    }
   ],
   "source": [
    "unicodestring = u\"Hello world\"\n",
    "unicodestring"
   ]
  },
  {
   "cell_type": "code",
   "execution_count": 338,
   "metadata": {},
   "outputs": [
    {
     "data": {
      "text/plain": [
       "'Hello world'"
      ]
     },
     "execution_count": 338,
     "metadata": {},
     "output_type": "execute_result"
    }
   ],
   "source": [
    "utf8string = unicodestring.encode(\"utf-8\")\n",
    "utf8string"
   ]
  },
  {
   "cell_type": "code",
   "execution_count": 339,
   "metadata": {},
   "outputs": [
    {
     "name": "stdout",
     "output_type": "stream",
     "text": [
      "(<type 'str'>, '\\\\u0432')\n",
      "(<type 'unicode'>, u'\\u0432')\n",
      "(<type 'str'>, '\\\\u0432')\n",
      "(<type 'unicode'>, u'\\\\u0432')\n"
     ]
    }
   ],
   "source": [
    "a = \"\\u0432\"\n",
    "b = u\"\\u0432\"\n",
    "c = b\"\\u0432\"\n",
    "d = c.decode('utf8')\n",
    "\n",
    "print(type(a), a)\n",
    "print(type(b), b)\n",
    "print(type(c), c)\n",
    "print(type(d), d)"
   ]
  },
  {
   "cell_type": "code",
   "execution_count": 340,
   "metadata": {},
   "outputs": [
    {
     "name": "stdout",
     "output_type": "stream",
     "text": [
      "<type 'unicode'>\n",
      "El niño come camarón\n"
     ]
    }
   ],
   "source": [
    "x = b'El ni\\xc3\\xb1o come camar\\xc3\\xb3n'\n",
    "s = x.decode('utf-8')\n",
    "print(type(s))\n",
    "print(s)"
   ]
  },
  {
   "cell_type": "code",
   "execution_count": 341,
   "metadata": {},
   "outputs": [
    {
     "name": "stdout",
     "output_type": "stream",
     "text": [
      "<type 'unicode'>\n",
      "Дмитрий\n"
     ]
    }
   ],
   "source": [
    "x = '\\xd0\\x94\\xd0\\xbc\\xd0\\xb8\\xd1\\x82\\xd1\\x80\\xd0\\xb8\\xd0\\xb9'\n",
    "s = x.decode('utf-8')\n",
    "print(type(s))\n",
    "print(s)"
   ]
  },
  {
   "cell_type": "code",
   "execution_count": 342,
   "metadata": {},
   "outputs": [
    {
     "name": "stdout",
     "output_type": "stream",
     "text": [
      "\"ברי צקלה\"\n"
     ]
    }
   ],
   "source": [
    "json_string = json.dumps(u\"ברי צקלה\", ensure_ascii=False)\n",
    "json_string\n",
    "print json_string"
   ]
  },
  {
   "cell_type": "code",
   "execution_count": 343,
   "metadata": {},
   "outputs": [
    {
     "name": "stdout",
     "output_type": "stream",
     "text": [
      "\"ברי צקלה\"\n"
     ]
    }
   ],
   "source": [
    "json_string = ujson.dumps(u\"ברי צקלה\", ensure_ascii=False)\n",
    "json_string\n",
    "print json_string"
   ]
  },
  {
   "cell_type": "code",
   "execution_count": 344,
   "metadata": {},
   "outputs": [
    {
     "data": {
      "text/plain": [
       "'\"\\xc3\\xa5\\xc3\\xa4\\xc3\\xb6\"'"
      ]
     },
     "execution_count": 344,
     "metadata": {},
     "output_type": "execute_result"
    }
   ],
   "source": [
    "ujson.dumps(u\"\\xe5\\xe4\\xf6\", ensure_ascii=False)"
   ]
  },
  {
   "cell_type": "code",
   "execution_count": 345,
   "metadata": {},
   "outputs": [],
   "source": [
    "def format_timedelta(dt):\n",
    "    return \"%s days, %.2d hours, %.2dm, %.2ds\" % (dt.days, dt.seconds//3600,(dt.seconds//60)%60, dt.seconds%60)"
   ]
  },
  {
   "cell_type": "code",
   "execution_count": 346,
   "metadata": {},
   "outputs": [],
   "source": [
    "def dictfetchall(cursor):\n",
    "    \"\"\"Return all rows from a cursor as a dict\"\"\"\n",
    "    columns = [col[0] for col in cursor.description]\n",
    "    return (\n",
    "        dict(zip(columns, row))\n",
    "        for row in cursor.fetchall()\n",
    "    )"
   ]
  },
  {
   "cell_type": "code",
   "execution_count": 347,
   "metadata": {},
   "outputs": [],
   "source": [
    "def PrintResults(cursor):\n",
    "    rows = list(dictfetchall(cursor))\n",
    "    for row in rows:\n",
    "        row['timeout'] = format_timedelta(row['timeout'])\n",
    "        #row['last_name'] = row['last_name'].decode('utf-8')\n",
    "    jsn = json.dumps(rows, ensure_ascii=False)\n",
    "    print(jsn)"
   ]
  },
  {
   "cell_type": "code",
   "execution_count": 348,
   "metadata": {},
   "outputs": [],
   "source": [
    "connection_parameters = {\n",
    "        'host': 'rumskapt201.open.ru',\n",
    "        'database': 'redshift',\n",
    "        'user': 'postgres',\n",
    "        'password': ''\n",
    "    }\n",
    "conn = psycopg2.connect(**connection_parameters)"
   ]
  },
  {
   "cell_type": "code",
   "execution_count": 349,
   "metadata": {},
   "outputs": [
    {
     "name": "stdout",
     "output_type": "stream",
     "text": [
      "[{\"first_name\": \"Дмитрий\", \"last_name\": \"Дьячков\", \"id_awaya\": 0, \"operator_id\": 544701, \"ticket_id\": 805207, \"timeout\": \"3 days, 19 hours, 08m, 40s\", \"email\": \"dyachkov_dma@open.ru\"}, {\"first_name\": \"Дмитрий\", \"last_name\": \"Дьячков\", \"id_awaya\": 0, \"operator_id\": 544701, \"ticket_id\": 805208, \"timeout\": \"2 days, 23 hours, 29m, 02s\", \"email\": \"dyachkov_dma@open.ru\"}, {\"first_name\": \"Дмитрий\", \"last_name\": \"Дьячков\", \"id_awaya\": 0, \"operator_id\": 544701, \"ticket_id\": 805209, \"timeout\": \"2 days, 22 hours, 01m, 52s\", \"email\": \"dyachkov_dma@open.ru\"}, {\"first_name\": \"Дмитрий\", \"last_name\": \"Дьячков\", \"id_awaya\": 0, \"operator_id\": 544701, \"ticket_id\": 805210, \"timeout\": \"2 days, 21 hours, 45m, 27s\", \"email\": \"dyachkov_dma@open.ru\"}, {\"first_name\": \"Иван\", \"last_name\": \"Диджитал\", \"id_awaya\": 0, \"operator_id\": 371430, \"ticket_id\": 805211, \"timeout\": \"2 days, 19 hours, 25m, 12s\", \"email\": \"goncharov_ia@open.ru\"}, {\"first_name\": \"Иван\", \"last_name\": \"Диджитал\", \"id_awaya\": 0, \"operator_id\": 371430, \"ticket_id\": 805212, \"timeout\": \"2 days, 19 hours, 20m, 45s\", \"email\": \"goncharov_ia@open.ru\"}, {\"first_name\": \"Ксения\", \"last_name\": \"Караульщук\", \"id_awaya\": 0, \"operator_id\": 60064, \"ticket_id\": 804145, \"timeout\": \"122 days, 13 hours, 18m, 16s\", \"email\": \"Kseniya.Karaulschuk@open.ru\"}, {\"first_name\": \"Ксения\", \"last_name\": \"Караульщук\", \"id_awaya\": 0, \"operator_id\": 60064, \"ticket_id\": 804123, \"timeout\": \"122 days, 12 hours, 32m, 16s\", \"email\": \"Kseniya.Karaulschuk@open.ru\"}, {\"first_name\": \"Лунара\", \"last_name\": \"Мурзахметова\", \"id_awaya\": 0, \"operator_id\": 26532, \"ticket_id\": 804193, \"timeout\": \"122 days, 01 hours, 37m, 24s\", \"email\": \"lunara.murzakhmetova@open.ru\"}, {\"first_name\": \"Ксения\", \"last_name\": \"Караульщук\", \"id_awaya\": 0, \"operator_id\": 60064, \"ticket_id\": 804198, \"timeout\": \"122 days, 11 hours, 43m, 06s\", \"email\": \"Kseniya.Karaulschuk@open.ru\"}, {\"first_name\": \"Ольга\", \"last_name\": \"Косолапова\", \"id_awaya\": 0, \"operator_id\": 397679, \"ticket_id\": 804245, \"timeout\": \"122 days, 03 hours, 57m, 45s\", \"email\": \"olga.kosolapova@OPEN.RU\"}, {\"first_name\": \"Салават\", \"last_name\": \"Сарсенгалиев\", \"id_awaya\": 0, \"operator_id\": 30, \"ticket_id\": 804379, \"timeout\": \"121 days, 22 hours, 43m, 13s\", \"email\": \"Salavat.Sarsengaliev@open.ru\"}, {\"first_name\": \"Салават\", \"last_name\": \"Сарсенгалиев\", \"id_awaya\": 0, \"operator_id\": 30, \"ticket_id\": 804386, \"timeout\": \"121 days, 23 hours, 07m, 38s\", \"email\": \"Salavat.Sarsengaliev@open.ru\"}, {\"first_name\": \"Лунара\", \"last_name\": \"Мурзахметова\", \"id_awaya\": 0, \"operator_id\": 26532, \"ticket_id\": 804430, \"timeout\": \"122 days, 02 hours, 45m, 13s\", \"email\": \"lunara.murzakhmetova@open.ru\"}, {\"first_name\": \"Ксения\", \"last_name\": \"Видманкина\", \"id_awaya\": 0, \"operator_id\": 26528, \"ticket_id\": 804516, \"timeout\": \"122 days, 02 hours, 48m, 23s\", \"email\": \"Kseniya.Vidmankina@open.ru\"}, {\"first_name\": \"Лунара\", \"last_name\": \"Мурзахметова\", \"id_awaya\": 0, \"operator_id\": 26532, \"ticket_id\": 804497, \"timeout\": \"122 days, 02 hours, 34m, 22s\", \"email\": \"lunara.murzakhmetova@open.ru\"}, {\"first_name\": \"Ксения\", \"last_name\": \"Видманкина\", \"id_awaya\": 0, \"operator_id\": 26528, \"ticket_id\": 804498, \"timeout\": \"122 days, 02 hours, 55m, 04s\", \"email\": \"Kseniya.Vidmankina@open.ru\"}, {\"first_name\": \"Лунара\", \"last_name\": \"Мурзахметова\", \"id_awaya\": 0, \"operator_id\": 26532, \"ticket_id\": 804554, \"timeout\": \"122 days, 02 hours, 31m, 40s\", \"email\": \"lunara.murzakhmetova@open.ru\"}, {\"first_name\": \"Салават\", \"last_name\": \"Сарсенгалиев\", \"id_awaya\": 0, \"operator_id\": 30, \"ticket_id\": 804634, \"timeout\": \"122 days, 01 hours, 02m, 29s\", \"email\": \"Salavat.Sarsengaliev@open.ru\"}, {\"first_name\": \"Салават\", \"last_name\": \"Сарсенгалиев\", \"id_awaya\": 0, \"operator_id\": 30, \"ticket_id\": 804680, \"timeout\": \"122 days, 00 hours, 18m, 01s\", \"email\": \"Salavat.Sarsengaliev@open.ru\"}, {\"first_name\": \"Лунара\", \"last_name\": \"Мурзахметова\", \"id_awaya\": 0, \"operator_id\": 26532, \"ticket_id\": 804651, \"timeout\": \"122 days, 01 hours, 45m, 28s\", \"email\": \"lunara.murzakhmetova@open.ru\"}, {\"first_name\": \"Алексей\", \"last_name\": \"Синельцев (оператор)\", \"id_awaya\": 0, \"operator_id\": 40327, \"ticket_id\": 804783, \"timeout\": \"122 days, 00 hours, 57m, 35s\", \"email\": \"supportdbo@open.ru\"}, {\"first_name\": \"Салават\", \"last_name\": \"Сарсенгалиев\", \"id_awaya\": 0, \"operator_id\": 30, \"ticket_id\": 804769, \"timeout\": \"122 days, 00 hours, 14m, 01s\", \"email\": \"Salavat.Sarsengaliev@open.ru\"}, {\"first_name\": \"Ксения\", \"last_name\": \"Видманкина\", \"id_awaya\": 0, \"operator_id\": 26528, \"ticket_id\": 804806, \"timeout\": \"122 days, 00 hours, 37m, 42s\", \"email\": \"Kseniya.Vidmankina@open.ru\"}, {\"first_name\": \"Сергей\", \"last_name\": \"Сёмин\", \"id_awaya\": 0, \"operator_id\": 295599, \"ticket_id\": 804998, \"timeout\": \"121 days, 23 hours, 14m, 56s\", \"email\": \"Sergey.Syomin@open.ru\"}, {\"first_name\": \"Салават\", \"last_name\": \"Сарсенгалиев\", \"id_awaya\": 0, \"operator_id\": 30, \"ticket_id\": 804955, \"timeout\": \"121 days, 22 hours, 50m, 01s\", \"email\": \"Salavat.Sarsengaliev@open.ru\"}, {\"first_name\": \"Алексей\", \"last_name\": \"Синельцев (оператор)\", \"id_awaya\": 0, \"operator_id\": 40327, \"ticket_id\": 804988, \"timeout\": \"121 days, 22 hours, 59m, 56s\", \"email\": \"supportdbo@open.ru\"}, {\"first_name\": \"Ксения\", \"last_name\": \"Видманкина\", \"id_awaya\": 0, \"operator_id\": 26528, \"ticket_id\": 804959, \"timeout\": \"121 days, 23 hours, 44m, 01s\", \"email\": \"Kseniya.Vidmankina@open.ru\"}, {\"first_name\": \"Ирина\", \"last_name\": \"Емельянова ООФЛ\", \"id_awaya\": 0, \"operator_id\": 254379, \"ticket_id\": 805125, \"timeout\": \"121 days, 22 hours, 19m, 50s\", \"email\": \"Irina.Emelyanova@open.ru\"}, {\"first_name\": \"Админ\", \"last_name\": \"Тестовый\", \"id_awaya\": 0, \"operator_id\": 544710, \"ticket_id\": 805174, \"timeout\": \"37 days, 19 hours, 13m, 17s\", \"email\": \"admin_test@open.ru\"}, {\"first_name\": \"Пётр\", \"last_name\": \"Тестовый\", \"id_awaya\": 0, \"operator_id\": 544700, \"ticket_id\": 805118, \"timeout\": \"121 days, 22 hours, 25m, 45s\", \"email\": \"op1@example.org\"}, {\"first_name\": \"Иван\", \"last_name\": \"Диджитал\", \"id_awaya\": 0, \"operator_id\": 371430, \"ticket_id\": 805192, \"timeout\": \"34 days, 19 hours, 00m, 39s\", \"email\": \"goncharov_ia@open.ru\"}, {\"first_name\": \"Иван\", \"last_name\": \"Диджитал\", \"id_awaya\": 0, \"operator_id\": 371430, \"ticket_id\": 805182, \"timeout\": \"36 days, 18 hours, 53m, 03s\", \"email\": \"goncharov_ia@open.ru\"}, {\"first_name\": \"Иван\", \"last_name\": \"Диджитал\", \"id_awaya\": 0, \"operator_id\": 371430, \"ticket_id\": 805191, \"timeout\": \"34 days, 19 hours, 05m, 07s\", \"email\": \"goncharov_ia@open.ru\"}, {\"first_name\": \"Иван\", \"last_name\": \"Диджитал\", \"id_awaya\": 0, \"operator_id\": 371430, \"ticket_id\": 805187, \"timeout\": \"34 days, 22 hours, 50m, 42s\", \"email\": \"goncharov_ia@open.ru\"}, {\"first_name\": \"Иван\", \"last_name\": \"Диджитал\", \"id_awaya\": 0, \"operator_id\": 371430, \"ticket_id\": 805180, \"timeout\": \"36 days, 19 hours, 02m, 45s\", \"email\": \"goncharov_ia@open.ru\"}, {\"first_name\": \"Иван\", \"last_name\": \"Диджитал\", \"id_awaya\": 0, \"operator_id\": 371430, \"ticket_id\": 805190, \"timeout\": \"34 days, 19 hours, 10m, 01s\", \"email\": \"goncharov_ia@open.ru\"}, {\"first_name\": \"Иван\", \"last_name\": \"Диджитал\", \"id_awaya\": 0, \"operator_id\": 371430, \"ticket_id\": 805186, \"timeout\": \"36 days, 18 hours, 27m, 58s\", \"email\": \"goncharov_ia@open.ru\"}, {\"first_name\": \"2линия\", \"last_name\": \"Оператор\", \"id_awaya\": 0, \"operator_id\": 544699, \"ticket_id\": 805181, \"timeout\": \"36 days, 18 hours, 58m, 23s\", \"email\": \"op2@example.org\"}, {\"first_name\": \"Алина\", \"last_name\": \"Ушакова ООФЛ\", \"id_awaya\": 3423465, \"operator_id\": 330064, \"ticket_id\": 805152, \"timeout\": \"98 days, 19 hours, 54m, 42s\", \"email\": \"alina.ushakova@open.ru\"}, {\"first_name\": \"Иван\", \"last_name\": \"Диджитал\", \"id_awaya\": 0, \"operator_id\": 371430, \"ticket_id\": 805193, \"timeout\": \"34 days, 19 hours, 00m, 13s\", \"email\": \"goncharov_ia@open.ru\"}, {\"first_name\": \"Иван\", \"last_name\": \"Диджитал\", \"id_awaya\": 0, \"operator_id\": 371430, \"ticket_id\": 805201, \"timeout\": \"23 days, 18 hours, 34m, 14s\", \"email\": \"goncharov_ia@open.ru\"}, {\"first_name\": \"Иван\", \"last_name\": \"Диджитал\", \"id_awaya\": 0, \"operator_id\": 371430, \"ticket_id\": 805183, \"timeout\": \"36 days, 18 hours, 51m, 06s\", \"email\": \"goncharov_ia@open.ru\"}, {\"first_name\": \"Иван\", \"last_name\": \"Диджитал\", \"id_awaya\": 0, \"operator_id\": 371430, \"ticket_id\": 805188, \"timeout\": \"34 days, 20 hours, 00m, 37s\", \"email\": \"goncharov_ia@open.ru\"}, {\"first_name\": \"Иван\", \"last_name\": \"Диджитал\", \"id_awaya\": 0, \"operator_id\": 371430, \"ticket_id\": 805189, \"timeout\": \"34 days, 19 hours, 47m, 47s\", \"email\": \"goncharov_ia@open.ru\"}, {\"first_name\": \"Дмитрий\", \"last_name\": \"Дьячков\", \"id_awaya\": 0, \"operator_id\": 544701, \"ticket_id\": 805164, \"timeout\": \"38 days, 23 hours, 38m, 18s\", \"email\": \"dyachkov_dma@open.ru\"}, {\"first_name\": \"Дмитрий\", \"last_name\": \"Дьячков\", \"id_awaya\": 0, \"operator_id\": 544701, \"ticket_id\": 805169, \"timeout\": \"38 days, 23 hours, 37m, 51s\", \"email\": \"dyachkov_dma@open.ru\"}, {\"first_name\": \"Дмитрий\", \"last_name\": \"Дьячков\", \"id_awaya\": 0, \"operator_id\": 544701, \"ticket_id\": 805168, \"timeout\": \"38 days, 23 hours, 37m, 55s\", \"email\": \"dyachkov_dma@open.ru\"}, {\"first_name\": \"Дмитрий\", \"last_name\": \"Дьячков\", \"id_awaya\": 0, \"operator_id\": 544701, \"ticket_id\": 805166, \"timeout\": \"38 days, 23 hours, 38m, 11s\", \"email\": \"dyachkov_dma@open.ru\"}, {\"first_name\": \"Лунара\", \"last_name\": \"Мурзахметова\", \"id_awaya\": 0, \"operator_id\": 26532, \"ticket_id\": 804969, \"timeout\": \"121 days, 23 hours, 15m, 16s\", \"email\": \"lunara.murzakhmetova@open.ru\"}, {\"first_name\": \"Ксения\", \"last_name\": \"Караульщук\", \"id_awaya\": 0, \"operator_id\": 60064, \"ticket_id\": 804970, \"timeout\": \"121 days, 23 hours, 19m, 03s\", \"email\": \"Kseniya.Karaulschuk@open.ru\"}, {\"first_name\": \"Дмитрий\", \"last_name\": \"Гольнев ООФЛ\", \"id_awaya\": 0, \"operator_id\": 305165, \"ticket_id\": 805085, \"timeout\": \"121 days, 22 hours, 24m, 07s\", \"email\": \"Dmitriy.Golnev@open.ru\"}, {\"first_name\": \"Ольга\", \"last_name\": \"Косолапова\", \"id_awaya\": 0, \"operator_id\": 397679, \"ticket_id\": 805034, \"timeout\": \"121 days, 22 hours, 56m, 21s\", \"email\": \"olga.kosolapova@OPEN.RU\"}, {\"first_name\": \"Алексей\", \"last_name\": \"Синельцев (оператор)\", \"id_awaya\": 0, \"operator_id\": 40327, \"ticket_id\": 805071, \"timeout\": \"121 days, 22 hours, 48m, 54s\", \"email\": \"supportdbo@open.ru\"}, {\"first_name\": \"Нина\", \"last_name\": \"Иванова ООФЛ\", \"id_awaya\": 0, \"operator_id\": 30407, \"ticket_id\": 805106, \"timeout\": \"121 days, 22 hours, 34m, 53s\", \"email\": \"ivanova.na@OPEN.RU\"}, {\"first_name\": \"Ксения\", \"last_name\": \"Караульщук\", \"id_awaya\": 0, \"operator_id\": 60064, \"ticket_id\": 805109, \"timeout\": \"121 days, 22 hours, 26m, 16s\", \"email\": \"Kseniya.Karaulschuk@open.ru\"}, {\"first_name\": \"Ксения\", \"last_name\": \"Видманкина\", \"id_awaya\": 0, \"operator_id\": 26528, \"ticket_id\": 805075, \"timeout\": \"121 days, 22 hours, 46m, 44s\", \"email\": \"Kseniya.Vidmankina@open.ru\"}, {\"first_name\": \"Дмитрий\", \"last_name\": \"Гольнев ООФЛ\", \"id_awaya\": 0, \"operator_id\": 305165, \"ticket_id\": 805102, \"timeout\": \"121 days, 22 hours, 33m, 49s\", \"email\": \"Dmitriy.Golnev@open.ru\"}, {\"first_name\": \"Нина\", \"last_name\": \"Иванова ООФЛ\", \"id_awaya\": 0, \"operator_id\": 30407, \"ticket_id\": 805114, \"timeout\": \"121 days, 22 hours, 25m, 00s\", \"email\": \"ivanova.na@OPEN.RU\"}, {\"first_name\": \"Ольга\", \"last_name\": \"Косолапова\", \"id_awaya\": 0, \"operator_id\": 397679, \"ticket_id\": 805124, \"timeout\": \"121 days, 22 hours, 22m, 59s\", \"email\": \"olga.kosolapova@OPEN.RU\"}, {\"first_name\": \"Сергей\", \"last_name\": \"Сёмин\", \"id_awaya\": 0, \"operator_id\": 295599, \"ticket_id\": 805112, \"timeout\": \"121 days, 22 hours, 19m, 45s\", \"email\": \"Sergey.Syomin@open.ru\"}, {\"first_name\": \"Аркадий\", \"last_name\": \"Ланцберг ООФЛ\", \"id_awaya\": 0, \"operator_id\": 150345, \"ticket_id\": 805120, \"timeout\": \"121 days, 22 hours, 19m, 25s\", \"email\": \"Arkadiy.Lantsberg@open.ru\"}, {\"first_name\": \"Сергей\", \"last_name\": \"Петриченко ООК\", \"id_awaya\": 0, \"operator_id\": 409290, \"ticket_id\": 805101, \"timeout\": \"121 days, 22 hours, 29m, 36s\", \"email\": \"Sergey.Petrichenko@open.ru\"}, {\"first_name\": \"Ксения\", \"last_name\": \"Караульщук\", \"id_awaya\": 0, \"operator_id\": 60064, \"ticket_id\": 805104, \"timeout\": \"121 days, 22 hours, 34m, 07s\", \"email\": \"Kseniya.Karaulschuk@open.ru\"}, {\"first_name\": \"Михаил\", \"last_name\": \"Игнатов ООФЛ\", \"id_awaya\": 0, \"operator_id\": 27706, \"ticket_id\": 805115, \"timeout\": \"121 days, 22 hours, 24m, 43s\", \"email\": \"Mikhail.Ignatov@OPEN.RU\"}, {\"first_name\": \"Зия\", \"last_name\": \"Исрафилов TLS\", \"id_awaya\": 0, \"operator_id\": 91329, \"ticket_id\": 805108, \"timeout\": \"121 days, 22 hours, 24m, 16s\", \"email\": \"Ziya.Israfilov@open.ru\"}, {\"first_name\": \"Аркадий\", \"last_name\": \"Ланцберг ООФЛ\", \"id_awaya\": 0, \"operator_id\": 150345, \"ticket_id\": 805126, \"timeout\": \"121 days, 22 hours, 23m, 04s\", \"email\": \"Arkadiy.Lantsberg@open.ru\"}, {\"first_name\": \"Дина\", \"last_name\": \"Давыдова ООК\", \"id_awaya\": 0, \"operator_id\": 214257, \"ticket_id\": 805123, \"timeout\": \"121 days, 22 hours, 23m, 45s\", \"email\": \"Dina.Davydova@open.ru\"}, {\"first_name\": \"Ирина\", \"last_name\": \"Емельянова ООФЛ\", \"id_awaya\": 0, \"operator_id\": 254379, \"ticket_id\": 805116, \"timeout\": \"121 days, 22 hours, 20m, 44s\", \"email\": \"Irina.Emelyanova@open.ru\"}, {\"first_name\": \"Юлия\", \"last_name\": \"Чумаченко ООФЛ\", \"id_awaya\": 0, \"operator_id\": 335758, \"ticket_id\": 805130, \"timeout\": \"121 days, 22 hours, 20m, 24s\", \"email\": \"chumachenko.yua@OPEN.RU\"}, {\"first_name\": \"Дмитрий\", \"last_name\": \"Дьячков\", \"id_awaya\": 0, \"operator_id\": 544701, \"ticket_id\": 805165, \"timeout\": \"38 days, 23 hours, 38m, 15s\", \"email\": \"dyachkov_dma@open.ru\"}, {\"first_name\": \"Иван\", \"last_name\": \"Диджитал\", \"id_awaya\": 0, \"operator_id\": 371430, \"ticket_id\": 805204, \"timeout\": \"13 days, 19 hours, 12m, 33s\", \"email\": \"goncharov_ia@open.ru\"}, {\"first_name\": \"Иван\", \"last_name\": \"Диджитал\", \"id_awaya\": 0, \"operator_id\": 371430, \"ticket_id\": 805205, \"timeout\": \"7 days, 18 hours, 30m, 33s\", \"email\": \"goncharov_ia@open.ru\"}, {\"first_name\": \"Иван\", \"last_name\": \"Диджитал\", \"id_awaya\": 0, \"operator_id\": 371430, \"ticket_id\": 805185, \"timeout\": \"36 days, 18 hours, 29m, 56s\", \"email\": \"goncharov_ia@open.ru\"}, {\"first_name\": \"Иван\", \"last_name\": \"Диджитал\", \"id_awaya\": 0, \"operator_id\": 371430, \"ticket_id\": 805206, \"timeout\": \"6 days, 20 hours, 13m, 39s\", \"email\": \"goncharov_ia@open.ru\"}, {\"first_name\": \"Дмитрий\", \"last_name\": \"Дьячков\", \"id_awaya\": 0, \"operator_id\": 544701, \"ticket_id\": 805167, \"timeout\": \"38 days, 23 hours, 38m, 08s\", \"email\": \"dyachkov_dma@open.ru\"}, {\"first_name\": \"Михаил\", \"last_name\": \"Игнатов ООФЛ\", \"id_awaya\": 0, \"operator_id\": 27706, \"ticket_id\": 805122, \"timeout\": \"121 days, 22 hours, 19m, 33s\", \"email\": \"Mikhail.Ignatov@OPEN.RU\"}, {\"first_name\": \"Нина\", \"last_name\": \"Иванова ООФЛ\", \"id_awaya\": 0, \"operator_id\": 30407, \"ticket_id\": 805098, \"timeout\": \"121 days, 22 hours, 39m, 05s\", \"email\": \"ivanova.na@OPEN.RU\"}, {\"first_name\": \"Лунара\", \"last_name\": \"Мурзахметова\", \"id_awaya\": 0, \"operator_id\": 26532, \"ticket_id\": 805103, \"timeout\": \"121 days, 22 hours, 20m, 36s\", \"email\": \"lunara.murzakhmetova@open.ru\"}, {\"first_name\": \"Юлия\", \"last_name\": \"Чумаченко ООФЛ\", \"id_awaya\": 0, \"operator_id\": 335758, \"ticket_id\": 805131, \"timeout\": \"121 days, 22 hours, 20m, 05s\", \"email\": \"chumachenko.yua@OPEN.RU\"}, {\"first_name\": \"Лунара\", \"last_name\": \"Мурзахметова\", \"id_awaya\": 0, \"operator_id\": 26532, \"ticket_id\": 805132, \"timeout\": \"121 days, 22 hours, 20m, 01s\", \"email\": \"lunara.murzakhmetova@open.ru\"}, {\"first_name\": \"Дина\", \"last_name\": \"Давыдова ООК\", \"id_awaya\": 0, \"operator_id\": 214257, \"ticket_id\": 805135, \"timeout\": \"120 days, 22 hours, 39m, 05s\", \"email\": \"Dina.Davydova@open.ru\"}, {\"first_name\": \"Михаил\", \"last_name\": \"Игнатов ООФЛ\", \"id_awaya\": 0, \"operator_id\": 27706, \"ticket_id\": 805136, \"timeout\": \"120 days, 22 hours, 35m, 42s\", \"email\": \"Mikhail.Ignatov@OPEN.RU\"}, {\"first_name\": \"Иван\", \"last_name\": \"Диджитал\", \"id_awaya\": 0, \"operator_id\": 371430, \"ticket_id\": 805111, \"timeout\": \"121 days, 22 hours, 30m, 31s\", \"email\": \"goncharov_ia@open.ru\"}, {\"first_name\": \"Пётр\", \"last_name\": \"Тестовый\", \"id_awaya\": 0, \"operator_id\": 544700, \"ticket_id\": 805140, \"timeout\": \"119 days, 21 hours, 54m, 43s\", \"email\": \"op1@example.org\"}, {\"first_name\": \"Дима\", \"last_name\": \"Диджитал\", \"id_awaya\": 0, \"operator_id\": 488826, \"ticket_id\": 805153, \"timeout\": \"98 days, 01 hours, 08m, 46s\", \"email\": \"dmitriy.dyachkov2@open.ru\"}, {\"first_name\": \"Дима\", \"last_name\": \"Диджитал\", \"id_awaya\": 0, \"operator_id\": 488826, \"ticket_id\": 805155, \"timeout\": \"79 days, 20 hours, 50m, 21s\", \"email\": \"dmitriy.dyachkov2@open.ru\"}, {\"first_name\": \"Белла\", \"last_name\": \"Зацаринина\", \"id_awaya\": 0, \"operator_id\": 7766, \"ticket_id\": 805157, \"timeout\": \"63 days, 01 hours, 10m, 52s\", \"email\": \"Bella.Islamova@OPEN.RU\"}, {\"first_name\": \"Aleksey\", \"last_name\": \"Sineltsev (admin)\", \"id_awaya\": 0, \"operator_id\": 31, \"ticket_id\": 805142, \"timeout\": \"115 days, 01 hours, 03m, 56s\", \"email\": \"Aleksey.Sineltsev@OPEN.RU\"}, {\"first_name\": \"Дима\", \"last_name\": \"Диджитал\", \"id_awaya\": 0, \"operator_id\": 488826, \"ticket_id\": 805154, \"timeout\": \"94 days, 00 hours, 23m, 14s\", \"email\": \"dmitriy.dyachkov2@open.ru\"}, {\"first_name\": \"Дима\", \"last_name\": \"Диджитал\", \"id_awaya\": 0, \"operator_id\": 488826, \"ticket_id\": 805161, \"timeout\": \"49 days, 23 hours, 42m, 29s\", \"email\": \"dmitriy.dyachkov2@open.ru\"}, {\"first_name\": \"Aleksey\", \"last_name\": \"Sineltsev (admin)\", \"id_awaya\": 0, \"operator_id\": 31, \"ticket_id\": 805129, \"timeout\": \"121 days, 22 hours, 19m, 32s\", \"email\": \"Aleksey.Sineltsev@OPEN.RU\"}, {\"first_name\": \"Админ\", \"last_name\": \"Тестовый\", \"id_awaya\": 0, \"operator_id\": 544710, \"ticket_id\": 805172, \"timeout\": \"37 days, 19 hours, 13m, 25s\", \"email\": \"admin_test@open.ru\"}, {\"first_name\": \"Админ\", \"last_name\": \"Тестовый\", \"id_awaya\": 0, \"operator_id\": 544710, \"ticket_id\": 805173, \"timeout\": \"37 days, 19 hours, 13m, 22s\", \"email\": \"admin_test@open.ru\"}, {\"first_name\": \"Админ\", \"last_name\": \"Тестовый\", \"id_awaya\": 0, \"operator_id\": 544710, \"ticket_id\": 805171, \"timeout\": \"37 days, 19 hours, 13m, 29s\", \"email\": \"admin_test@open.ru\"}, {\"first_name\": \"Админ\", \"last_name\": \"Тестовый\", \"id_awaya\": 0, \"operator_id\": 544710, \"ticket_id\": 805176, \"timeout\": \"37 days, 19 hours, 13m, 10s\", \"email\": \"admin_test@open.ru\"}, {\"first_name\": \"Пётр\", \"last_name\": \"Тестовый\", \"id_awaya\": 0, \"operator_id\": 544700, \"ticket_id\": 805178, \"timeout\": \"37 days, 19 hours, 13m, 04s\", \"email\": \"op1@example.org\"}, {\"first_name\": \"Иван\", \"last_name\": \"Диджитал\", \"id_awaya\": 0, \"operator_id\": 371430, \"ticket_id\": 805170, \"timeout\": \"37 days, 21 hours, 46m, 01s\", \"email\": \"goncharov_ia@open.ru\"}, {\"first_name\": \"Сергей\", \"last_name\": \"Сёмин\", \"id_awaya\": 0, \"operator_id\": 295599, \"ticket_id\": 799799, \"timeout\": \"123 days, 21 hours, 59m, 34s\", \"email\": \"Sergey.Syomin@open.ru\"}, {\"first_name\": \"Алексей\", \"last_name\": \"Синельцев (оператор)\", \"id_awaya\": 0, \"operator_id\": 40327, \"ticket_id\": 799456, \"timeout\": \"123 days, 03 hours, 24m, 41s\", \"email\": \"supportdbo@open.ru\"}, {\"first_name\": \"Ольга\", \"last_name\": \"Косолапова\", \"id_awaya\": 0, \"operator_id\": 397679, \"ticket_id\": 799563, \"timeout\": \"126 days, 16 hours, 06m, 19s\", \"email\": \"olga.kosolapova@OPEN.RU\"}, {\"first_name\": \"Алексей\", \"last_name\": \"Синельцев (оператор)\", \"id_awaya\": 0, \"operator_id\": 40327, \"ticket_id\": 800386, \"timeout\": \"125 days, 20 hours, 43m, 19s\", \"email\": \"supportdbo@open.ru\"}, {\"first_name\": \"Алексей\", \"last_name\": \"Синельцев (оператор)\", \"id_awaya\": 0, \"operator_id\": 40327, \"ticket_id\": 800821, \"timeout\": \"124 days, 02 hours, 02m, 45s\", \"email\": \"supportdbo@open.ru\"}, {\"first_name\": \"Лунара\", \"last_name\": \"Мурзахметова\", \"id_awaya\": 0, \"operator_id\": 26532, \"ticket_id\": 800719, \"timeout\": \"122 days, 17 hours, 57m, 34s\", \"email\": \"lunara.murzakhmetova@open.ru\"}, {\"first_name\": \"Ольга\", \"last_name\": \"Косолапова\", \"id_awaya\": 0, \"operator_id\": 397679, \"ticket_id\": 793536, \"timeout\": \"129 days, 19 hours, 47m, 49s\", \"email\": \"olga.kosolapova@OPEN.RU\"}, {\"first_name\": \"Сергей\", \"last_name\": \"Сёмин\", \"id_awaya\": 0, \"operator_id\": 295599, \"ticket_id\": 793659, \"timeout\": \"126 days, 00 hours, 15m, 00s\", \"email\": \"Sergey.Syomin@open.ru\"}, {\"first_name\": \"Сергей\", \"last_name\": \"Сёмин\", \"id_awaya\": 0, \"operator_id\": 295599, \"ticket_id\": 801443, \"timeout\": \"124 days, 16 hours, 14m, 12s\", \"email\": \"Sergey.Syomin@open.ru\"}, {\"first_name\": \"Сергей\", \"last_name\": \"Сёмин\", \"id_awaya\": 0, \"operator_id\": 295599, \"ticket_id\": 795619, \"timeout\": \"128 days, 17 hours, 51m, 04s\", \"email\": \"Sergey.Syomin@open.ru\"}, {\"first_name\": \"Сергей\", \"last_name\": \"Сёмин\", \"id_awaya\": 0, \"operator_id\": 295599, \"ticket_id\": 796045, \"timeout\": \"121 days, 23 hours, 21m, 27s\", \"email\": \"Sergey.Syomin@open.ru\"}, {\"first_name\": \"Ольга\", \"last_name\": \"Косолапова\", \"id_awaya\": 0, \"operator_id\": 397679, \"ticket_id\": 802197, \"timeout\": \"123 days, 17 hours, 02m, 06s\", \"email\": \"olga.kosolapova@OPEN.RU\"}, {\"first_name\": \"Алексей\", \"last_name\": \"Синельцев (оператор)\", \"id_awaya\": 0, \"operator_id\": 40327, \"ticket_id\": 796974, \"timeout\": \"127 days, 03 hours, 32m, 30s\", \"email\": \"supportdbo@open.ru\"}, {\"first_name\": \"Лунара\", \"last_name\": \"Мурзахметова\", \"id_awaya\": 0, \"operator_id\": 26532, \"ticket_id\": 802783, \"timeout\": \"122 days, 03 hours, 18m, 22s\", \"email\": \"lunara.murzakhmetova@open.ru\"}, {\"first_name\": \"Ксения\", \"last_name\": \"Караульщук\", \"id_awaya\": 0, \"operator_id\": 60064, \"ticket_id\": 802944, \"timeout\": \"122 days, 23 hours, 57m, 15s\", \"email\": \"Kseniya.Karaulschuk@open.ru\"}, {\"first_name\": \"Ольга\", \"last_name\": \"Косолапова\", \"id_awaya\": 0, \"operator_id\": 397679, \"ticket_id\": 798067, \"timeout\": \"127 days, 03 hours, 41m, 05s\", \"email\": \"olga.kosolapova@OPEN.RU\"}, {\"first_name\": \"Алексей\", \"last_name\": \"Синельцев (оператор)\", \"id_awaya\": 0, \"operator_id\": 40327, \"ticket_id\": 798274, \"timeout\": \"127 days, 01 hours, 53m, 16s\", \"email\": \"supportdbo@open.ru\"}, {\"first_name\": \"Сергей\", \"last_name\": \"Сёмин\", \"id_awaya\": 0, \"operator_id\": 295599, \"ticket_id\": 798317, \"timeout\": \"127 days, 01 hours, 22m, 15s\", \"email\": \"Sergey.Syomin@open.ru\"}, {\"first_name\": \"Алексей\", \"last_name\": \"Синельцев (оператор)\", \"id_awaya\": 0, \"operator_id\": 40327, \"ticket_id\": 798502, \"timeout\": \"123 days, 00 hours, 53m, 51s\", \"email\": \"supportdbo@open.ru\"}, {\"first_name\": \"Ольга\", \"last_name\": \"Косолапова\", \"id_awaya\": 0, \"operator_id\": 397679, \"ticket_id\": 798500, \"timeout\": \"125 days, 15 hours, 31m, 04s\", \"email\": \"olga.kosolapova@OPEN.RU\"}, {\"first_name\": \"Салават\", \"last_name\": \"Сарсенгалиев\", \"id_awaya\": 0, \"operator_id\": 30, \"ticket_id\": 804421, \"timeout\": \"122 days, 02 hours, 27m, 49s\", \"email\": \"Salavat.Sarsengaliev@open.ru\"}, {\"first_name\": \"Ксения\", \"last_name\": \"Видманкина\", \"id_awaya\": 0, \"operator_id\": 26528, \"ticket_id\": 803324, \"timeout\": \"122 days, 00 hours, 22m, 35s\", \"email\": \"Kseniya.Vidmankina@open.ru\"}, {\"first_name\": \"Ольга\", \"last_name\": \"Косолапова\", \"id_awaya\": 0, \"operator_id\": 397679, \"ticket_id\": 799042, \"timeout\": \"126 days, 19 hours, 57m, 07s\", \"email\": \"olga.kosolapova@OPEN.RU\"}, {\"first_name\": \"Ксения\", \"last_name\": \"Караульщук\", \"id_awaya\": 0, \"operator_id\": 60064, \"ticket_id\": 803445, \"timeout\": \"122 days, 20 hours, 50m, 51s\", \"email\": \"Kseniya.Karaulschuk@open.ru\"}, {\"first_name\": \"Сергей\", \"last_name\": \"Сёмин\", \"id_awaya\": 0, \"operator_id\": 295599, \"ticket_id\": 803558, \"timeout\": \"122 days, 19 hours, 43m, 18s\", \"email\": \"Sergey.Syomin@open.ru\"}, {\"first_name\": \"Сергей\", \"last_name\": \"Сёмин\", \"id_awaya\": 0, \"operator_id\": 295599, \"ticket_id\": 803720, \"timeout\": \"122 days, 18 hours, 21m, 51s\", \"email\": \"Sergey.Syomin@open.ru\"}, {\"first_name\": \"Ольга\", \"last_name\": \"Косолапова\", \"id_awaya\": 0, \"operator_id\": 397679, \"ticket_id\": 797427, \"timeout\": \"127 days, 18 hours, 17m, 15s\", \"email\": \"olga.kosolapova@OPEN.RU\"}, {\"first_name\": \"Салават\", \"last_name\": \"Сарсенгалиев\", \"id_awaya\": 0, \"operator_id\": 30, \"ticket_id\": 804009, \"timeout\": \"122 days, 04 hours, 48m, 17s\", \"email\": \"Salavat.Sarsengaliev@open.ru\"}, {\"first_name\": \"Ксения\", \"last_name\": \"Караульщук\", \"id_awaya\": 0, \"operator_id\": 60064, \"ticket_id\": 804106, \"timeout\": \"122 days, 14 hours, 24m, 23s\", \"email\": \"Kseniya.Karaulschuk@open.ru\"}]\n"
     ]
    }
   ],
   "source": [
    "query = \"select t.ticket_id, \\\n",
    "                t.operator_id, \\\n",
    "                t.timeout, \\\n",
    "                u.first_name, \\\n",
    "                u.last_name, \\\n",
    "                u.email, \\\n",
    "                u.id_awaya \\\n",
    "                           \\\n",
    "        from redshift_ticket_timeout t inner join redshift_user u \\\n",
    "        on (t.operator_id = u.id)\"\n",
    "\n",
    "try:\n",
    "    with conn.cursor() as cursor:\n",
    "        cursor.execute(query)\n",
    "        PrintResults(cursor)\n",
    "    \n",
    "    conn.close()\n",
    "    \n",
    "except psycopg2.Error as exc:\n",
    "    conn.close()\n",
    "    print(\"Failed to execute query\")\n",
    "    print(exc)\n",
    "    "
   ]
  },
  {
   "cell_type": "code",
   "execution_count": null,
   "metadata": {},
   "outputs": [],
   "source": []
  }
 ],
 "metadata": {
  "kernelspec": {
   "display_name": "Python 2",
   "language": "python",
   "name": "python2"
  },
  "language_info": {
   "codemirror_mode": {
    "name": "ipython",
    "version": 2
   },
   "file_extension": ".py",
   "mimetype": "text/x-python",
   "name": "python",
   "nbconvert_exporter": "python",
   "pygments_lexer": "ipython2",
   "version": "2.7.14"
  }
 },
 "nbformat": 4,
 "nbformat_minor": 2
}
