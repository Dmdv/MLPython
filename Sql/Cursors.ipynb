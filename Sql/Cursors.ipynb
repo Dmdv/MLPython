{
 "cells": [
  {
   "cell_type": "code",
   "execution_count": 333,
   "metadata": {},
   "outputs": [],
   "source": [
    "import psycopg2\n",
    "import sqlalchemy\n",
    "from collections import defaultdict\n",
    "import datetime\n",
    "import json\n",
    "import ujson"
   ]
  },
  {
   "cell_type": "code",
   "execution_count": 334,
   "metadata": {},
   "outputs": [],
   "source": [
    "#postgres_engine = sqlalchemy.create_engine('postgresql://connectionstring')"
   ]
  },
  {
   "cell_type": "code",
   "execution_count": 335,
   "metadata": {},
   "outputs": [
    {
     "data": {
      "text/plain": [
       "'Dima'"
      ]
     },
     "execution_count": 335,
     "metadata": {},
     "output_type": "execute_result"
    }
   ],
   "source": [
    "s = \"Dima\"\n",
    "s.encode('utf8')"
   ]
  },
  {
   "cell_type": "code",
   "execution_count": 336,
   "metadata": {},
   "outputs": [
    {
     "data": {
      "text/plain": [
       "u'\\\\u0414\\\\u043c\\\\u0438\\\\u0442\\\\u0440\\\\u0438\\\\u0439'"
      ]
     },
     "execution_count": 336,
     "metadata": {},
     "output_type": "execute_result"
    }
   ],
   "source": [
    "uni = \"\\u0414\\u043c\\u0438\\u0442\\u0440\\u0438\\u0439\"\n",
    "unicode(uni, 'utf-8')\n",
    "#uni.decode('utf-8')"
   ]
  },
  {
   "cell_type": "code",
   "execution_count": 337,
   "metadata": {},
   "outputs": [
    {
     "data": {
      "text/plain": [
       "u'Hello world'"
      ]
     },
     "execution_count": 337,
     "metadata": {},
     "output_type": "execute_result"
    }
   ],
   "source": [
    "unicodestring = u\"Hello world\"\n",
    "unicodestring"
   ]
  },
  {
   "cell_type": "code",
   "execution_count": 338,
   "metadata": {},
   "outputs": [
    {
     "data": {
      "text/plain": [
       "'Hello world'"
      ]
     },
     "execution_count": 338,
     "metadata": {},
     "output_type": "execute_result"
    }
   ],
   "source": [
    "utf8string = unicodestring.encode(\"utf-8\")\n",
    "utf8string"
   ]
  },
  {
   "cell_type": "code",
   "execution_count": 339,
   "metadata": {},
   "outputs": [
    {
     "name": "stdout",
     "output_type": "stream",
     "text": [
      "(<type 'str'>, '\\\\u0432')\n",
      "(<type 'unicode'>, u'\\u0432')\n",
      "(<type 'str'>, '\\\\u0432')\n",
      "(<type 'unicode'>, u'\\\\u0432')\n"
     ]
    }
   ],
   "source": [
    "a = \"\\u0432\"\n",
    "b = u\"\\u0432\"\n",
    "c = b\"\\u0432\"\n",
    "d = c.decode('utf8')\n",
    "\n",
    "print(type(a), a)\n",
    "print(type(b), b)\n",
    "print(type(c), c)\n",
    "print(type(d), d)"
   ]
  },
  {
   "cell_type": "code",
   "execution_count": 340,
   "metadata": {},
   "outputs": [
    {
     "name": "stdout",
     "output_type": "stream",
     "text": [
      "<type 'unicode'>\n",
      "El niño come camarón\n"
     ]
    }
   ],
   "source": [
    "x = b'El ni\\xc3\\xb1o come camar\\xc3\\xb3n'\n",
    "s = x.decode('utf-8')\n",
    "print(type(s))\n",
    "print(s)"
   ]
  },
  {
   "cell_type": "code",
   "execution_count": 341,
   "metadata": {},
   "outputs": [
    {
     "name": "stdout",
     "output_type": "stream",
     "text": [
      "<type 'unicode'>\n",
      "Дмитрий\n"
     ]
    }
   ],
   "source": [
    "x = '\\xd0\\x94\\xd0\\xbc\\xd0\\xb8\\xd1\\x82\\xd1\\x80\\xd0\\xb8\\xd0\\xb9'\n",
    "s = x.decode('utf-8')\n",
    "print(type(s))\n",
    "print(s)"
   ]
  },
  {
   "cell_type": "code",
   "execution_count": 342,
   "metadata": {},
   "outputs": [
    {
     "name": "stdout",
     "output_type": "stream",
     "text": [
      "\"ברי צקלה\"\n"
     ]
    }
   ],
   "source": [
    "json_string = json.dumps(u\"ברי צקלה\", ensure_ascii=False)\n",
    "json_string\n",
    "print json_string"
   ]
  },
  {
   "cell_type": "code",
   "execution_count": 343,
   "metadata": {},
   "outputs": [
    {
     "name": "stdout",
     "output_type": "stream",
     "text": [
      "\"ברי צקלה\"\n"
     ]
    }
   ],
   "source": [
    "json_string = ujson.dumps(u\"ברי צקלה\", ensure_ascii=False)\n",
    "json_string\n",
    "print json_string"
   ]
  },
  {
   "cell_type": "code",
   "execution_count": 344,
   "metadata": {},
   "outputs": [
    {
     "data": {
      "text/plain": [
       "'\"\\xc3\\xa5\\xc3\\xa4\\xc3\\xb6\"'"
      ]
     },
     "execution_count": 344,
     "metadata": {},
     "output_type": "execute_result"
    }
   ],
   "source": [
    "ujson.dumps(u\"\\xe5\\xe4\\xf6\", ensure_ascii=False)"
   ]
  },
  {
   "cell_type": "code",
   "execution_count": 345,
   "metadata": {},
   "outputs": [],
   "source": [
    "def format_timedelta(dt):\n",
    "    return \"%s days, %.2d hours, %.2dm, %.2ds\" % (dt.days, dt.seconds//3600,(dt.seconds//60)%60, dt.seconds%60)"
   ]
  },
  {
   "cell_type": "code",
   "execution_count": 346,
   "metadata": {},
   "outputs": [],
   "source": [
    "def dictfetchall(cursor):\n",
    "    \"\"\"Return all rows from a cursor as a dict\"\"\"\n",
    "    columns = [col[0] for col in cursor.description]\n",
    "    return (\n",
    "        dict(zip(columns, row))\n",
    "        for row in cursor.fetchall()\n",
    "    )"
   ]
  },
  {
   "cell_type": "code",
   "execution_count": 347,
   "metadata": {},
   "outputs": [],
   "source": [
    "def PrintResults(cursor):\n",
    "    rows = list(dictfetchall(cursor))\n",
    "    for row in rows:\n",
    "        row['timeout'] = format_timedelta(row['timeout'])\n",
    "        #row['last_name'] = row['last_name'].decode('utf-8')\n",
    "    jsn = json.dumps(rows, ensure_ascii=False)\n",
    "    print(jsn)"
   ]
  },
  {
   "cell_type": "code",
   "execution_count": 348,
   "metadata": {},
   "outputs": [],
   "source": [
    "connection_parameters = {\n",
    "        'host': 'example.com',\n",
    "        'database': 'redshift',\n",
    "        'user': 'postgres',\n",
    "        'password': ''\n",
    "    }\n",
    "conn = psycopg2.connect(**connection_parameters)"
   ]
  },
  {
   "cell_type": "code",
   "execution_count": 349,
   "metadata": {},
   "outputs": [
    {
     "name": "stdout",
     "output_type": "stream",
     "text": [
      "[]
    }
   ],
   "source": [
    "query = \"select t.ticket_id, \\\n",
    "                t.operator_id, \\\n",
    "                t.timeout, \\\n",
    "                u.first_name, \\\n",
    "                u.last_name, \\\n",
    "                u.email, \\\n",
    "                u.id_awaya \\\n",
    "                           \\\n",
    "        from redshift_ticket_timeout t inner join redshift_user u \\\n",
    "        on (t.operator_id = u.id)\"\n",
    "\n",
    "try:\n",
    "    with conn.cursor() as cursor:\n",
    "        cursor.execute(query)\n",
    "        PrintResults(cursor)\n",
    "    \n",
    "    conn.close()\n",
    "    \n",
    "except psycopg2.Error as exc:\n",
    "    conn.close()\n",
    "    print(\"Failed to execute query\")\n",
    "    print(exc)\n",
    "    "
   ]
  },
  {
   "cell_type": "code",
   "execution_count": null,
   "metadata": {},
   "outputs": [],
   "source": []
  }
 ],
 "metadata": {
  "kernelspec": {
   "display_name": "Python 2",
   "language": "python",
   "name": "python2"
  },
  "language_info": {
   "codemirror_mode": {
    "name": "ipython",
    "version": 2
   },
   "file_extension": ".py",
   "mimetype": "text/x-python",
   "name": "python",
   "nbconvert_exporter": "python",
   "pygments_lexer": "ipython2",
   "version": "2.7.14"
  }
 },
 "nbformat": 4,
 "nbformat_minor": 2
}
